{
 "cells": [
  {
   "cell_type": "code",
   "execution_count": 53,
   "id": "81c9f762-67d2-4aa3-bfc0-3d007643b191",
   "metadata": {},
   "outputs": [],
   "source": [
    "with open(\"input.txt\", \"r\") as f:\n",
    "    lines = f.readlines()"
   ]
  },
  {
   "cell_type": "code",
   "execution_count": 54,
   "id": "e042ce0f-53e2-49d0-8050-92d18046a541",
   "metadata": {},
   "outputs": [],
   "source": [
    "count = []\n",
    "sum = 0\n",
    "for i, line in enumerate(lines):\n",
    "    \n",
    "    if line != \"\\n\":    \n",
    "        num = int(line.strip(\"\\n\"))\n",
    "        sum += num\n",
    "    else:\n",
    "        count.append(sum)\n",
    "        sum = 0\n",
    "        \n",
    "    "
   ]
  },
  {
   "cell_type": "code",
   "execution_count": 55,
   "id": "af4eff54-8593-4a6a-9b30-3c9eddd43b5e",
   "metadata": {},
   "outputs": [],
   "source": [
    "first = max(count)\n",
    "count.remove(first)\n",
    "second = max(count)\n",
    "count.remove(second)\n",
    "third = max(count)"
   ]
  },
  {
   "cell_type": "code",
   "execution_count": 56,
   "id": "95bf69dc-9c90-4d2b-8835-da6716cd6cd6",
   "metadata": {},
   "outputs": [
    {
     "data": {
      "text/plain": [
       "(75622, 69383, 68154)"
      ]
     },
     "execution_count": 56,
     "metadata": {},
     "output_type": "execute_result"
    }
   ],
   "source": [
    "first, second, third"
   ]
  },
  {
   "cell_type": "code",
   "execution_count": 57,
   "id": "3fccd9f7-72b6-46d8-97e7-33e836d04019",
   "metadata": {},
   "outputs": [
    {
     "data": {
      "text/plain": [
       "213159"
      ]
     },
     "execution_count": 57,
     "metadata": {},
     "output_type": "execute_result"
    }
   ],
   "source": [
    "first+second+third"
   ]
  },
  {
   "cell_type": "code",
   "execution_count": null,
   "id": "37607896-2012-4e11-b704-94dbf0175a9a",
   "metadata": {},
   "outputs": [],
   "source": []
  }
 ],
 "metadata": {
  "kernelspec": {
   "display_name": "Python 3 (ipykernel)",
   "language": "python",
   "name": "python3"
  },
  "language_info": {
   "codemirror_mode": {
    "name": "ipython",
    "version": 3
   },
   "file_extension": ".py",
   "mimetype": "text/x-python",
   "name": "python",
   "nbconvert_exporter": "python",
   "pygments_lexer": "ipython3",
   "version": "3.8.13"
  }
 },
 "nbformat": 4,
 "nbformat_minor": 5
}
