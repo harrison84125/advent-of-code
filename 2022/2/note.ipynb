{
 "cells": [
  {
   "cell_type": "code",
   "execution_count": 47,
   "id": "b0410ff4-ac5f-4193-be6e-5ddceed04cdb",
   "metadata": {},
   "outputs": [],
   "source": [
    "with open(\"input.txt\", \"r\") as f:\n",
    "    lines = f.readlines()"
   ]
  },
  {
   "cell_type": "code",
   "execution_count": 56,
   "id": "f8d6806a-b40d-4a80-95a8-5ebf2f0f5041",
   "metadata": {},
   "outputs": [],
   "source": [
    "p = [\"A\", \"B\", \"C\"]\n",
    "q = [\"X\", \"Y\", \"Z\"]\n",
    "e = [2, 0 ,1]\n",
    "f = [1, 2, 0]\n",
    "d = {}\n",
    "\n",
    "dd = {}\n",
    "for n, i in enumerate(p):\n",
    "    for m, j in enumerate(q):\n",
    "        if n == m:   \n",
    "            d[i+j] = m+1 + 3\n",
    "        elif (m-n) == 1 or (m-n) == -2:\n",
    "            d[i+j] = m+1 + 6\n",
    "        elif (m-n) == -1 or (m-n) == 2:\n",
    "            d[i+j] = m+1 + 0\n",
    "##########################################\n",
    "        if m == 0:   \n",
    "            dd[i+j] = e[n]+1 + 3*m\n",
    "        elif m == 1:\n",
    "            dd[i+j] = n + 1 + 3*m\n",
    "        elif m == 2:\n",
    "            dd[i+j] = f[n] + 1 + 3*m"
   ]
  },
  {
   "cell_type": "code",
   "execution_count": 57,
   "id": "331312f0-9d99-4080-a257-dc7e0a34ec03",
   "metadata": {},
   "outputs": [
    {
     "data": {
      "text/plain": [
       "{'AX': 3,\n",
       " 'AY': 4,\n",
       " 'AZ': 8,\n",
       " 'BX': 1,\n",
       " 'BY': 5,\n",
       " 'BZ': 9,\n",
       " 'CX': 2,\n",
       " 'CY': 6,\n",
       " 'CZ': 7}"
      ]
     },
     "execution_count": 57,
     "metadata": {},
     "output_type": "execute_result"
    }
   ],
   "source": [
    "dd"
   ]
  },
  {
   "cell_type": "code",
   "execution_count": 5,
   "id": "db8a40e1-80ea-4b9d-a6be-0346b415299e",
   "metadata": {},
   "outputs": [
    {
     "data": {
      "text/plain": [
       "['AX', 'AY', 'AZ', 'BX', 'BY', 'BZ', 'CX', 'CY', 'CZ']"
      ]
     },
     "execution_count": 5,
     "metadata": {},
     "output_type": "execute_result"
    }
   ],
   "source": [
    "l"
   ]
  },
  {
   "cell_type": "code",
   "execution_count": 58,
   "id": "20399483-fa88-45cc-97bc-791a2ec99e22",
   "metadata": {},
   "outputs": [],
   "source": [
    "sum = 0\n",
    "for line in lines:\n",
    "    ans = line.strip(\"\\n\").split(\" \")\n",
    "    score = dd[ans[0]+ans[1]]\n",
    "    sum += score"
   ]
  },
  {
   "cell_type": "code",
   "execution_count": 59,
   "id": "3efd4567-3c9c-4e26-bdad-aa65ad8aeb7f",
   "metadata": {},
   "outputs": [
    {
     "data": {
      "text/plain": [
       "11618"
      ]
     },
     "execution_count": 59,
     "metadata": {},
     "output_type": "execute_result"
    }
   ],
   "source": [
    "sum"
   ]
  },
  {
   "cell_type": "code",
   "execution_count": null,
   "id": "52a7ca7f-b1ec-46b6-8001-443fc74da333",
   "metadata": {},
   "outputs": [],
   "source": []
  }
 ],
 "metadata": {
  "kernelspec": {
   "display_name": "Python 3 (ipykernel)",
   "language": "python",
   "name": "python3"
  },
  "language_info": {
   "codemirror_mode": {
    "name": "ipython",
    "version": 3
   },
   "file_extension": ".py",
   "mimetype": "text/x-python",
   "name": "python",
   "nbconvert_exporter": "python",
   "pygments_lexer": "ipython3",
   "version": "3.8.13"
  }
 },
 "nbformat": 4,
 "nbformat_minor": 5
}
