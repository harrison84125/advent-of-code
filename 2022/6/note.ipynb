{
 "cells": [
  {
   "cell_type": "code",
   "execution_count": 14,
   "id": "eefafd62-159f-464e-a140-fc26f2f983d0",
   "metadata": {},
   "outputs": [],
   "source": [
    "with open(\"input.txt\", \"r\") as f:\n",
    "    lines = f.readlines()\n"
   ]
  },
  {
   "cell_type": "code",
   "execution_count": 40,
   "id": "a865ebcb-a5ad-4d8d-b9dd-b2be97201d17",
   "metadata": {},
   "outputs": [],
   "source": [
    "def solution(s, k):\n",
    "    for num, i in enumerate(s):\n",
    "        if num < len(s) - k:\n",
    "            tmp = []\n",
    "            for j in range(k):\n",
    "                tmp.append(s[num + j])\n",
    "                if len(set(tmp)) == k:\n",
    "                    return num + k\n"
   ]
  },
  {
   "cell_type": "code",
   "execution_count": 43,
   "id": "876dd4a7-f4a3-4494-9b92-6ddbffd2cc03",
   "metadata": {},
   "outputs": [
    {
     "data": {
      "text/plain": [
       "(1361, 3263)"
      ]
     },
     "execution_count": 43,
     "metadata": {},
     "output_type": "execute_result"
    }
   ],
   "source": [
    "solution(lines[0], 4), solution(lines[0], 14)"
   ]
  },
  {
   "cell_type": "code",
   "execution_count": null,
   "id": "765ef564-9608-4978-96c3-27d503f1e668",
   "metadata": {},
   "outputs": [],
   "source": []
  },
  {
   "cell_type": "code",
   "execution_count": null,
   "id": "19c0e867-8f05-4de5-9c11-b4a52968f40b",
   "metadata": {},
   "outputs": [],
   "source": []
  }
 ],
 "metadata": {
  "kernelspec": {
   "display_name": "Python 3 (ipykernel)",
   "language": "python",
   "name": "python3"
  },
  "language_info": {
   "codemirror_mode": {
    "name": "ipython",
    "version": 3
   },
   "file_extension": ".py",
   "mimetype": "text/x-python",
   "name": "python",
   "nbconvert_exporter": "python",
   "pygments_lexer": "ipython3",
   "version": "3.8.13"
  }
 },
 "nbformat": 4,
 "nbformat_minor": 5
}
