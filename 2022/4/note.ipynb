{
 "cells": [
  {
   "cell_type": "code",
   "execution_count": 31,
   "id": "eefafd62-159f-464e-a140-fc26f2f983d0",
   "metadata": {},
   "outputs": [],
   "source": [
    "with open(\"input.txt\", \"r\") as f:\n",
    "    lines = f.readlines()\n",
    "l = []\n",
    "for line in lines:\n",
    "    l.append(line.strip(\"\\n\"))"
   ]
  },
  {
   "cell_type": "code",
   "execution_count": 55,
   "id": "0a5a5d43-8361-4b7d-8d46-f7897ad47bef",
   "metadata": {},
   "outputs": [],
   "source": [
    "sum = 0\n",
    "for line in l:\n",
    "    a, b = line.split(\",\")\n",
    "    a1, a2 = a.split(\"-\")\n",
    "    b1, b2 = b.split(\"-\")\n",
    "    \n",
    "    if int(a1) <= int(b1) and int(a2) >= int(b2):\n",
    "        sum += 1\n",
    "    elif int(a1) >= int(b1) and int(a2) <= int(b2):\n",
    "        sum += 1"
   ]
  },
  {
   "cell_type": "code",
   "execution_count": 61,
   "id": "01becce8-12d1-413e-b395-1eeee20526cd",
   "metadata": {},
   "outputs": [],
   "source": [
    "sum2 = 0\n",
    "for line in l:\n",
    "    a, b = line.split(\",\")\n",
    "    a1, a2 = a.split(\"-\")\n",
    "    b1, b2 = b.split(\"-\")\n",
    "\n",
    "    if not((int(b1) > int(a2)) or (int(a1) > int(b2))):\n",
    "        sum2 += 1\n"
   ]
  },
  {
   "cell_type": "code",
   "execution_count": 62,
   "id": "11859f44-bd2b-4c07-93a4-882e292e70a0",
   "metadata": {},
   "outputs": [
    {
     "data": {
      "text/plain": [
       "(456, 808)"
      ]
     },
     "execution_count": 62,
     "metadata": {},
     "output_type": "execute_result"
    }
   ],
   "source": [
    "sum, sum2"
   ]
  },
  {
   "cell_type": "code",
   "execution_count": null,
   "id": "2cd44554-9dc9-4ce1-99a5-911f7b278ed6",
   "metadata": {},
   "outputs": [],
   "source": []
  }
 ],
 "metadata": {
  "kernelspec": {
   "display_name": "Python 3 (ipykernel)",
   "language": "python",
   "name": "python3"
  },
  "language_info": {
   "codemirror_mode": {
    "name": "ipython",
    "version": 3
   },
   "file_extension": ".py",
   "mimetype": "text/x-python",
   "name": "python",
   "nbconvert_exporter": "python",
   "pygments_lexer": "ipython3",
   "version": "3.8.13"
  }
 },
 "nbformat": 4,
 "nbformat_minor": 5
}
