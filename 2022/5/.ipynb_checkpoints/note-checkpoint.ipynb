{
 "cells": [
  {
   "cell_type": "code",
   "execution_count": 92,
   "id": "eefafd62-159f-464e-a140-fc26f2f983d0",
   "metadata": {},
   "outputs": [],
   "source": [
    "with open(\"input.txt\", \"r\") as f:\n",
    "    lines = f.readlines()\n",
    "l = []\n",
    "for line in lines:\n",
    "    l.append(line.strip(\"\\n\"))"
   ]
  },
  {
   "cell_type": "code",
   "execution_count": 93,
   "id": "ceae79f8-2a6f-4cae-afcb-d17bfcc173a7",
   "metadata": {},
   "outputs": [],
   "source": [
    "stacks = {}"
   ]
  },
  {
   "cell_type": "code",
   "execution_count": 94,
   "id": "a917332f-8083-48f9-9e2c-ccd2329c6250",
   "metadata": {},
   "outputs": [],
   "source": [
    "stacks[0] = ['D', 'B', 'J', 'V']\n",
    "stacks[1] = ['P', 'V', 'B', 'W', 'R', 'D', 'F']\n",
    "stacks[2] = ['R', 'G', 'F', 'L', 'D', 'C', 'W', 'Q']\n",
    "stacks[3] = ['W', 'J', 'P', 'M', 'L', 'N', 'D', 'B']\n",
    "stacks[4] = ['H', 'N', 'B', 'P', 'C', 'S', 'Q']\n",
    "stacks[5] = ['R', 'D', 'B', 'S', 'N', 'G']\n",
    "stacks[6] = ['Z', 'B', 'P', 'M', 'Q', 'F', 'S', 'H']\n",
    "stacks[7] = ['W', 'L', 'F']\n",
    "stacks[8] = ['S', 'V', 'F', 'M', 'R']"
   ]
  },
  {
   "cell_type": "code",
   "execution_count": 95,
   "id": "4da89238-e36a-491f-a6ac-9d85835f1d67",
   "metadata": {},
   "outputs": [],
   "source": [
    "def move(num, a, b, stacks):\n",
    "    tmp = stacks[a][-num:]\n",
    "    for i in range(num):\n",
    "        stacks[a].pop()\n",
    "    stacks[b] += tmp[::-1]\n",
    "    \n",
    "    return stacks\n",
    "\n",
    "def move2(num, a, b, stacks):\n",
    "    tmp = stacks[a][-num:]\n",
    "    for i in range(num):\n",
    "        stacks[a].pop()\n",
    "    stacks[b] += tmp\n",
    "    \n",
    "    return stacks"
   ]
  },
  {
   "cell_type": "code",
   "execution_count": 96,
   "id": "c312a079-f1f6-4a64-ba6f-ffc1cea7dd00",
   "metadata": {},
   "outputs": [],
   "source": [
    "def move_arg(arg):\n",
    "    tmp = arg.split(\" \")\n",
    "    num = tmp[1]\n",
    "    a = tmp[3]\n",
    "    b = tmp[5]\n",
    "    \n",
    "    return int(num), int(a), int(b)"
   ]
  },
  {
   "cell_type": "code",
   "execution_count": 97,
   "id": "de85f1bc-8c2f-425a-9635-f76e0a5814df",
   "metadata": {},
   "outputs": [],
   "source": [
    "for index, line in enumerate(l):\n",
    "    num, a, b = move_arg(line)\n",
    "    try:\n",
    "        move2(num, a-1, b-1, stacks)\n",
    "    except:\n",
    "        print(num, a, b)\n",
    "        print(stacks, index)"
   ]
  },
  {
   "cell_type": "code",
   "execution_count": 98,
   "id": "f90175c4-2806-4195-af9a-b9cbe66a70f1",
   "metadata": {},
   "outputs": [],
   "source": [
    "ans = []\n",
    "for v in stacks.values():\n",
    "    ans.append(v[-1])"
   ]
  },
  {
   "cell_type": "code",
   "execution_count": 99,
   "id": "9ebb7a8b-a717-4a8c-984d-dab50dd7b32d",
   "metadata": {},
   "outputs": [
    {
     "data": {
      "text/plain": [
       "'PGSQBFLDP'"
      ]
     },
     "execution_count": 99,
     "metadata": {},
     "output_type": "execute_result"
    }
   ],
   "source": [
    "\"\".join(ans)"
   ]
  },
  {
   "cell_type": "code",
   "execution_count": 91,
   "id": "a865ebcb-a5ad-4d8d-b9dd-b2be97201d17",
   "metadata": {},
   "outputs": [],
   "source": []
  },
  {
   "cell_type": "code",
   "execution_count": null,
   "id": "876dd4a7-f4a3-4494-9b92-6ddbffd2cc03",
   "metadata": {},
   "outputs": [],
   "source": []
  }
 ],
 "metadata": {
  "kernelspec": {
   "display_name": "Python 3 (ipykernel)",
   "language": "python",
   "name": "python3"
  },
  "language_info": {
   "codemirror_mode": {
    "name": "ipython",
    "version": 3
   },
   "file_extension": ".py",
   "mimetype": "text/x-python",
   "name": "python",
   "nbconvert_exporter": "python",
   "pygments_lexer": "ipython3",
   "version": "3.8.13"
  }
 },
 "nbformat": 4,
 "nbformat_minor": 5
}
