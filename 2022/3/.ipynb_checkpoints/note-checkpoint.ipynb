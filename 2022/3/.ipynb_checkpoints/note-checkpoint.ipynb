{
 "cells": [
  {
   "cell_type": "code",
   "execution_count": 6,
   "id": "eefafd62-159f-464e-a140-fc26f2f983d0",
   "metadata": {},
   "outputs": [],
   "source": [
    "with open(\"input.txt\", \"r\") as f:\n",
    "    lines = f.readlines()\n",
    "l = []\n",
    "for line in lines:\n",
    "    l.append(line.strip(\"\\n\"))"
   ]
  },
  {
   "cell_type": "code",
   "execution_count": 13,
   "id": "ceae79f8-2a6f-4cae-afcb-d17bfcc173a7",
   "metadata": {},
   "outputs": [],
   "source": [
    "import string\n",
    "lower_class = list(string.ascii_lowercase)\n",
    "upper_class = list(string.ascii_uppercase)\n",
    "alpha = lower_class + upper_class"
   ]
  },
  {
   "cell_type": "code",
   "execution_count": 15,
   "id": "72ee968f-97b1-4237-a784-fdf829094955",
   "metadata": {},
   "outputs": [
    {
     "data": {
      "text/plain": [
       "37"
      ]
     },
     "execution_count": 15,
     "metadata": {},
     "output_type": "execute_result"
    }
   ],
   "source": [
    "alpha.index('L')"
   ]
  },
  {
   "cell_type": "code",
   "execution_count": 19,
   "id": "4a2b461e-1055-497a-96fa-44ea5e4bae93",
   "metadata": {},
   "outputs": [],
   "source": [
    "# input is even\n",
    "for i in l:\n",
    "    if len(i) % 2 != 0:\n",
    "        print(i)"
   ]
  },
  {
   "cell_type": "code",
   "execution_count": 34,
   "id": "99957e28-0674-45dd-949a-48ebf1a7734c",
   "metadata": {},
   "outputs": [],
   "source": [
    "sum = 0\n",
    "for i in l:\n",
    "    prev = i[:len(i)//2]\n",
    "    nex =  i[len(i)//2:]\n",
    "    # print(prev, nex)\n",
    "    for j in prev:\n",
    "        if j in nex:\n",
    "            # print(j)\n",
    "            sum += alpha.index(j)+1\n",
    "            \n",
    "            break"
   ]
  },
  {
   "cell_type": "code",
   "execution_count": 35,
   "id": "5415b53a-7e59-4db9-8eed-6f2a3758683d",
   "metadata": {},
   "outputs": [
    {
     "data": {
      "text/plain": [
       "8123"
      ]
     },
     "execution_count": 35,
     "metadata": {},
     "output_type": "execute_result"
    }
   ],
   "source": [
    "sum"
   ]
  },
  {
   "cell_type": "code",
   "execution_count": 57,
   "id": "1aee35b7-194e-4dc0-9b82-cd96572f1832",
   "metadata": {},
   "outputs": [],
   "source": [
    "sum = 0\n",
    "for k in range(0, len(l)//3):\n",
    "    # print(k)\n",
    "    for i in l[0 + 3*k]:\n",
    "        if (i in l[1 + 3*k]) and (i in l[2 + 3*k]):\n",
    "            # print(i)\n",
    "            sum += alpha.index(i)+1\n",
    "            break\n",
    "                    "
   ]
  },
  {
   "cell_type": "code",
   "execution_count": 58,
   "id": "bc15a833-37c6-41dc-8f32-118e61cabcac",
   "metadata": {},
   "outputs": [
    {
     "data": {
      "text/plain": [
       "2620"
      ]
     },
     "execution_count": 58,
     "metadata": {},
     "output_type": "execute_result"
    }
   ],
   "source": [
    "sum"
   ]
  },
  {
   "cell_type": "code",
   "execution_count": null,
   "id": "e723473f-74d6-4eb4-b1b5-475db12d29e0",
   "metadata": {},
   "outputs": [],
   "source": []
  }
 ],
 "metadata": {
  "kernelspec": {
   "display_name": "Python 3 (ipykernel)",
   "language": "python",
   "name": "python3"
  },
  "language_info": {
   "codemirror_mode": {
    "name": "ipython",
    "version": 3
   },
   "file_extension": ".py",
   "mimetype": "text/x-python",
   "name": "python",
   "nbconvert_exporter": "python",
   "pygments_lexer": "ipython3",
   "version": "3.8.13"
  }
 },
 "nbformat": 4,
 "nbformat_minor": 5
}
